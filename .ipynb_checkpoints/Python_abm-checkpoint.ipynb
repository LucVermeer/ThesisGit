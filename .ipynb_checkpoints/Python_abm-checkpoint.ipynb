{
 "cells": [
  {
   "cell_type": "code",
   "execution_count": 99,
   "metadata": {},
   "outputs": [],
   "source": [
    "import numpy as np\n",
    "import matplotlib.pyplot as plt\n",
    "from tqdm.notebook import tqdm, trange\n"
   ]
  },
  {
   "cell_type": "code",
   "execution_count": 149,
   "metadata": {},
   "outputs": [],
   "source": [
    "class Model():\n",
    "    def __init__(self):\n",
    "        # grid dimensions\n",
    "        self.width = 100\n",
    "        self.height = 100\n",
    "        \n",
    "        # the values of different states of cells (containing predator, prey or none) \n",
    "        self.empty_val = 0\n",
    "        self.pred_val = 1\n",
    "        self.prey_val = 2\n",
    "        \n",
    "        self.pred_die_probability = 0.02\n",
    "        self.pred_reproduce_probability = 0.5\n",
    "        self.prey_reproduce_probability = 0.5\n",
    "\n",
    "        self.coordinates = []\n",
    "        for y in range(self.height):\n",
    "            for x in range(self.width):\n",
    "                self.coordinates.append((y, x))\n",
    "        \n",
    "        # define starting population\n",
    "        n_pred_start = 1000\n",
    "        n_prey_start = 4000\n",
    "        self.n_pred = n_pred_start\n",
    "        self.n_prey = n_prey_start\n",
    "        \n",
    "        # init grid\n",
    "        grid_flat = np.zeros(self.width*self.height)\n",
    "        grid_flat[0:n_pred_start] = self.pred_val\n",
    "        grid_flat[n_pred_start:n_pred_start+n_prey_start] = self.prey_val\n",
    "        np.random.shuffle(grid_flat)\n",
    "        self.grid = np.reshape(grid_flat, (self.height, self.width))\n",
    "        \n",
    "    def select_random_neighbor(self, coordinates):\n",
    "        y = (coordinates[0] + (np.random.randint(3) - 1)) % self.height\n",
    "        x = (coordinates[1] + (np.random.randint(3) - 1)) % self.width\n",
    "        return (y, x)\n",
    "\n",
    "    def step_grid(self):\n",
    "        np.random.shuffle(self.coordinates)\n",
    "        for coordinate in self.coordinates:\n",
    "            value = self.grid[coordinate]\n",
    "            if value == self.empty_val:\n",
    "                continue\n",
    "            else:\n",
    "                neighbor_coordinate = self.select_random_neighbor(coordinate)\n",
    "                neighbor_val = self.grid[neighbor_coordinate]\n",
    "                if value == self.pred_val:\n",
    "                    # predator\n",
    "                    if neighbor_val == self.empty_val:\n",
    "                        # die maybe\n",
    "                        self.grid[coordinate] = self.empty_val\n",
    "                        self.n_pred -= 1\n",
    "                        if np.random.rand() > self.pred_die_probability:\n",
    "                            # move (do not die)\n",
    "                            self.grid[neighbor_coordinate] = self.pred_val\n",
    "                            self.n_pred += 1\n",
    "                    if neighbor_val == self.prey_val:                        \n",
    "                        self.n_prey -= 1\n",
    "                        if np.random.rand() < self.pred_reproduce_probability:\n",
    "                            # eat and reproduce in prey's cell\n",
    "                            self.grid[neighbor_coordinate] = self.pred_val\n",
    "                            self.n_pred += 1\n",
    "                        else:\n",
    "                            # only eat prey\n",
    "                            self.grid[neighbor_coordinate] = self.empty_val\n",
    "                elif value == self.prey_val:\n",
    "                    # prey\n",
    "                    if neighbor_val == self.empty_val:\n",
    "                        # (reproduce to/) move to new cell\n",
    "                        self.grid[neighbor_coordinate] = self.prey_val\n",
    "                        self.n_prey += 1\n",
    "                        if np.random.rand() > self.prey_reproduce_probability:\n",
    "                            # (do not reproduce/ kill old cell)\n",
    "                            self.grid[coordinate] = self.empty_val\n",
    "                            self.n_prey -= 1\n",
    "                    if neighbor_val == self.pred_val:\n",
    "                        self.n_prey -= 1\n",
    "                        if np.random.rand() < self.pred_reproduce_probability:\n",
    "                            # eat and reproduce to prey's cell\n",
    "                            self.grid[coordinate] = self.pred_val\n",
    "                            self.n_pred += 1\n",
    "                        else:\n",
    "                            # only eat prey\n",
    "                            self.grid[coordinate] = self.empty_val\n",
    "\n",
    "    def run_model(self, step_size=100):\n",
    "        pred_population = []\n",
    "        prey_population = []\n",
    "        for i in trange(step_size):\n",
    "            pred_population.append(self.n_pred)\n",
    "            prey_population.append(self.n_prey)\n",
    "            if self.n_prey == 0 or self.n_pred == 0:\n",
    "                break\n",
    "            self.step_grid()\n",
    "        plt.plot(pred_population, label=\"predators\")\n",
    "        plt.plot(prey_population, label=\"prey\")\n",
    "        return (pred_population, prey_population)\n",
    "        \n",
    "\n"
   ]
  },
  {
   "cell_type": "code",
   "execution_count": 150,
   "metadata": {},
   "outputs": [
    {
     "data": {
      "application/vnd.jupyter.widget-view+json": {
       "model_id": "04b5e7ac4a034acab1649c76e4be188d",
       "version_major": 2,
       "version_minor": 0
      },
      "text/plain": [
       "HBox(children=(FloatProgress(value=0.0, max=1.0), HTML(value='')))"
      ]
     },
     "metadata": {},
     "output_type": "display_data"
    },
    {
     "data": {
      "application/vnd.jupyter.widget-view+json": {
       "model_id": "bd2b169f980645999f3cb61a1b5443a2",
       "version_major": 2,
       "version_minor": 0
      },
      "text/plain": [
       "HBox(children=(FloatProgress(value=0.0), HTML(value='')))"
      ]
     },
     "metadata": {},
     "output_type": "display_data"
    },
    {
     "name": "stdout",
     "output_type": "stream",
     "text": [
      "\n",
      "\n"
     ]
    },
    {
     "data": {
      "text/plain": [
       "79984221.4736842"
      ]
     },
     "execution_count": 150,
     "metadata": {},
     "output_type": "execute_result"
    },
    {
     "data": {
      "image/png": "[encoded data removed]",
      "text/plain": [
       "<Figure size 432x288 with 1 Axes>"
      ]
     },
     "metadata": {
      "needs_background": "light"
     },
     "output_type": "display_data"
    }
   ],
   "source": [
    "ave_error = 0\n",
    "trials = 1\n",
    "for i in trange(trials):\n",
    "    model = Model()\n",
    "    ave_error += of_square_error_from_mean(model.run_model())/trials\n",
    "ave_error"
   ]
  },
  {
   "cell_type": "code",
   "execution_count": 145,
   "metadata": {},
   "outputs": [],
   "source": [
    "def of_square_error_from_mean(time_series):\n",
    "#     if len(time_series[0]) != 100 or len(time_series[1]) != 100:\n",
    "#         return 100000000\n",
    "    mean_0 = np.mean(time_series[0])\n",
    "    mean_1 = np.mean(time_series[1])\n",
    "    cost = 0\n",
    "    for i in range(len(time_series[0])):\n",
    "        cost += (time_series[0][i] - mean_0)**2\n",
    "        cost += (time_series[1][i] - mean_1)**2\n",
    "    return cost\n",
    "\n"
   ]
  },
  {
   "cell_type": "code",
   "execution_count": 146,
   "metadata": {},
   "outputs": [
    {
     "data": {
      "text/plain": [
       "'Flip'"
      ]
     },
     "execution_count": 146,
     "metadata": {},
     "output_type": "execute_result"
    }
   ],
   "source": [
    "np.random.choice([\"Flip\", \"Luuk\"])"
   ]
  },
  {
   "cell_type": "code",
   "execution_count": null,
   "metadata": {},
   "outputs": [],
   "source": []
  }
 ],
 "metadata": {
  "kernelspec": {
   "display_name": "Python 3",
   "language": "python",
   "name": "python3"
  },
  "language_info": {
   "codemirror_mode": {
    "name": "ipython",
    "version": 3
   },
   "file_extension": ".py",
   "mimetype": "text/x-python",
   "name": "python",
   "nbconvert_exporter": "python",
   "pygments_lexer": "ipython3",
   "version": "3.7.6"
  }
 },
 "nbformat": 4,
 "nbformat_minor": 4
}
